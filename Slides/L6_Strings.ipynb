{
 "cells": [
  {
   "cell_type": "markdown",
   "metadata": {
    "slideshow": {
     "slide_type": "slide"
    }
   },
   "source": [
    "# Lesson 6: Strings\n",
    "## _The first sequential data type_"
   ]
  },
  {
   "cell_type": "markdown",
   "metadata": {
    "slideshow": {
     "slide_type": "subslide"
    }
   },
   "source": [
    "# The Type Hierarchy\n",
    "> \"There are 10 kinds of people in this world, those who know binary and those who don't.\"    \n",
    "> -- anonymous nerd lore"
   ]
  },
  {
   "cell_type": "markdown",
   "metadata": {
    "slideshow": {
     "slide_type": "subslide"
    }
   },
   "source": [
    "<h1 class=\"centered\">Binary</h1>\n",
    "\n",
    "![binary](img/L6_1_Type_Hierarchy.png)"
   ]
  },
  {
   "cell_type": "markdown",
   "metadata": {
    "slideshow": {
     "slide_type": "subslide"
    }
   },
   "source": [
    "<h1 class=\"centered\">Bytes / Characters</h1>\n",
    "![bytes](img/L6_2_Type_Hierarchy.png)"
   ]
  },
  {
   "cell_type": "markdown",
   "metadata": {
    "slideshow": {
     "slide_type": "subslide"
    }
   },
   "source": [
    "<h1 class=\"centered\">Primative Data Types</h1>\n",
    "![primative types](img/L6_3_Type_Hierarchy.png)"
   ]
  },
  {
   "cell_type": "markdown",
   "metadata": {
    "slideshow": {
     "slide_type": "subslide"
    }
   },
   "source": [
    "<h1 class=\"centered\">Objects</h1>\n",
    "![objects](img/L6_4_Type_Hierarchy.png)"
   ]
  },
  {
   "cell_type": "markdown",
   "metadata": {
    "slideshow": {
     "slide_type": "subslide"
    }
   },
   "source": [
    "<h1 class=\"centered\">Abstract Types</h1>\n",
    "![abstract types](img/L6_5_Type_Hierarchy.png)"
   ]
  },
  {
   "cell_type": "markdown",
   "metadata": {
    "slideshow": {
     "slide_type": "subslide"
    }
   },
   "source": [
    "<h1 class=\"centered\">Python Data Types</h1>\n",
    "![python](img/L6_6_Type_Hierarchy.png)"
   ]
  },
  {
   "cell_type": "markdown",
   "metadata": {
    "slideshow": {
     "slide_type": "subslide"
    }
   },
   "source": [
    "# Roadmap\n",
    "#### Lessons 1-2: basics\n",
    "#### Lessons 3-5: logic\n",
    "## **Lesson 6: strings** \n",
    "### Lesson 7: files\n",
    "#### Lessons 8-10: lists, dictionaries, tuples\n",
    "#### Lessons 11-12: advanced topics\n",
    "#### Final Project"
   ]
  }
 ],
 "metadata": {
  "kernelspec": {
   "display_name": "Python 3",
   "language": "python",
   "name": "python3"
  },
  "language_info": {
   "codemirror_mode": {
    "name": "ipython",
    "version": 3
   },
   "file_extension": ".py",
   "mimetype": "text/x-python",
   "name": "python",
   "nbconvert_exporter": "python",
   "pygments_lexer": "ipython3",
   "version": "3.7.7"
  }
 },
 "nbformat": 4,
 "nbformat_minor": 4
}
