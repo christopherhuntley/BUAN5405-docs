{
 "cells": [
  {
   "cell_type": "markdown",
   "metadata": {
    "slideshow": {
     "slide_type": "slide"
    }
   },
   "source": [
    "![DSB Logo](img/Dolan_wide.png)\n",
    "# Course Introduction\n",
    "\n",
    "### Everything you need to know and do before the first day of class"
   ]
  },
  {
   "cell_type": "markdown",
   "metadata": {
    "slideshow": {
     "slide_type": "subslide"
    }
   },
   "source": [
    "# Meet Your Instructor\n",
    "## Dr. Christopher Huntley\n",
    "- PhD in Systems Engineering (UVa, 1995)\n",
    "- At Fairfield U since 1997, before that (mostly) in industry\n",
    "- Shipped software in over a dozen different languages before 30-th birthday\n",
    "- Also taught BUAN 6500, BUAN 6505, BUAN 6510, and BUAN 6590\n"
   ]
  },
  {
   "cell_type": "markdown",
   "metadata": {
    "slideshow": {
     "slide_type": "slide"
    }
   },
   "source": [
    "# The Big Picture\n",
    "\n",
    "## Python and Analytics"
   ]
  },
  {
   "cell_type": "markdown",
   "metadata": {
    "slideshow": {
     "slide_type": "subslide"
    }
   },
   "source": [
    "# Computers: Fast but Dumb!"
   ]
  },
  {
   "cell_type": "markdown",
   "metadata": {
    "slideshow": {
     "slide_type": "fragment"
    }
   },
   "source": [
    "- Can perform millions (even billions or trillions or quadrillions) of calculations per second\n",
    "    - Compute weather predictions\n",
    "    - Search terabytes of Google indexes\n",
    "    - Simulate a nuclear explosion"
   ]
  },
  {
   "cell_type": "markdown",
   "metadata": {
    "slideshow": {
     "slide_type": "fragment"
    }
   },
   "source": [
    "- However, they continue to struggle with things we do every day \n",
    "    - Process and interpret visual input \n",
    "    - Determine mood by watching a person’s face\n",
    "    - Understand the meaning of human language/behavior"
   ]
  },
  {
   "cell_type": "markdown",
   "metadata": {
    "slideshow": {
     "slide_type": "subslide"
    }
   },
   "source": [
    "# Why Learn to Program\n",
    "\n",
    "## Computers only do what we tell them to do"
   ]
  },
  {
   "cell_type": "markdown",
   "metadata": {
    "slideshow": {
     "slide_type": "fragment"
    }
   },
   "source": [
    "## Two implications for business analysts\n",
    "\n",
    "### 1. Must communicate unabiguously ...\n",
    "- **what** we need the computer to do\n",
    "- **how** the computer is expected to do it\n",
    "- (computer does not care about **why**)"
   ]
  },
  {
   "cell_type": "markdown",
   "metadata": {
    "slideshow": {
     "slide_type": "fragment"
    }
   },
   "source": [
    "### 2. Languages evolve to fit what we need\n",
    "- So **always** be learning something new"
   ]
  },
  {
   "cell_type": "markdown",
   "metadata": {
    "slideshow": {
     "slide_type": "subslide"
    }
   },
   "source": [
    "# Why Python? \n",
    "\n",
    "- **Easy to learn**\n",
    "    - Simple syntax and vocabulary, without a lot of clutter\n",
    "    - Most things have \"One obvious way to do it\""
   ]
  },
  {
   "cell_type": "markdown",
   "metadata": {
    "slideshow": {
     "slide_type": "fragment"
    }
   },
   "source": [
    "- **Encourages logical thinking**\n",
    "    - Block structure, with clear visual hierarchy\n",
    "    - Lots of built-in data types, flexible \n",
    "    - \"Coding at the speed of thought\""
   ]
  },
  {
   "cell_type": "markdown",
   "metadata": {
    "slideshow": {
     "slide_type": "fragment"
    }
   },
   "source": [
    "- **Amazing industry support**\n",
    "    - Lots and lots of free/open source software\n",
    "    - Easy to \"glue together\" whatever you need"
   ]
  },
  {
   "cell_type": "markdown",
   "metadata": {
    "slideshow": {
     "slide_type": "subslide"
    }
   },
   "source": [
    "# A Brief History Lesson\n",
    "\n",
    "![Brief history lesson](img/L0_fig1_brief_history_lesson.png)"
   ]
  },
  {
   "cell_type": "markdown",
   "metadata": {
    "slideshow": {
     "slide_type": "subslide"
    }
   },
   "source": [
    "# Key Observation\n",
    "\n",
    "Until only a few years years ago, professional-level data analytics required mastery of a whole stack of programming languages and systems."
   ]
  },
  {
   "cell_type": "markdown",
   "metadata": {
    "slideshow": {
     "slide_type": "fragment"
    }
   },
   "source": [
    "**Now, however, one can do pretty much anything with just Python**, which has the best tooling around for analytics!"
   ]
  },
  {
   "cell_type": "markdown",
   "metadata": {
    "slideshow": {
     "slide_type": "fragment"
    }
   },
   "source": [
    "Excel is fine, but a Jupyter Notebook with live data is much better."
   ]
  },
  {
   "cell_type": "markdown",
   "metadata": {
    "slideshow": {
     "slide_type": "slide"
    }
   },
   "source": [
    "# Course Expectations\n",
    "\n",
    "## What does success look like?"
   ]
  },
  {
   "cell_type": "markdown",
   "metadata": {
    "slideshow": {
     "slide_type": "subslide"
    }
   },
   "source": [
    "# Why are you here again?\n",
    "\n",
    "The goal of this course is not to turn you into a systems engineer, but **to provide fundamental programming skills needed for business analytics.**\n",
    "![Client Analyst Engineer](img/L0_fig2_client_analyst_engineer.png)"
   ]
  },
  {
   "cell_type": "markdown",
   "metadata": {
    "slideshow": {
     "slide_type": "subslide"
    }
   },
   "source": [
    "# Course Objectives\n",
    "\n",
    "- **Theory: You should understand …**\n",
    "    - Fundamentals of logical reasoning as used in contemporary programming languages\n",
    "    - Basic and advanced data structures needed organize, store, and integrate data\n",
    "    - Syntax, control structures, data types, etc. in the Python language\n",
    "    - Importance of Python as a tool for data science\n",
    "- **Practice: You should be able to …**\n",
    "    - Write Python scripts of moderate length and complexity\n",
    "    - Design and use custom data structures using built-in and third-party data types\n",
    "    - Use third-party Python libraries like Pandas and Matplotlib\n",
    "    - Develop proficency with a professional-level data science toolkit (Jupyter, GitHub, etc.)"
   ]
  },
  {
   "cell_type": "markdown",
   "metadata": {
    "slideshow": {
     "slide_type": "subslide"
    }
   },
   "source": [
    "# About the Workload ...\n",
    "Things progress **2x the speed of an UG class** and each new thing builds on the last.\n",
    "\n",
    "- **Programming is not a passive activity.**\n",
    "    - Doing the readings and watching the videos is **necessary** but not **sufficient*\n",
    "    - Most of the **learning happens with hands on the keyboards** after taking in the materials\n",
    "- **Don't let yourself get behind.**\n",
    "    - It takes time and repetition for things to sink in. Fast learners should expect to spend at least an hour every day. If that's not you, then **plan to spend 2 hours every day!**"
   ]
  },
  {
   "cell_type": "markdown",
   "metadata": {
    "slideshow": {
     "slide_type": "subslide"
    }
   },
   "source": [
    "# A Slight digression about Values\n",
    "**Be sure you know why you are here.**  "
   ]
  },
  {
   "cell_type": "markdown",
   "metadata": {
    "slideshow": {
     "slide_type": "fragment"
    }
   },
   "source": [
    "Graduate School is a social contract, with a **professional code of conduct** that values …\n",
    "* Integrity over Grades\n",
    "* Courage over Ego\n",
    "* Community over Competition"
   ]
  },
  {
   "cell_type": "markdown",
   "metadata": {
    "slideshow": {
     "slide_type": "fragment"
    }
   },
   "source": [
    "**If you can’t abide by our values then please take another course.**"
   ]
  },
  {
   "cell_type": "markdown",
   "metadata": {
    "slideshow": {
     "slide_type": "subslide"
    }
   },
   "source": [
    "# ... And Professionalism\n",
    "### What does it mean to be a professional?\n",
    "Get paid. Duh."
   ]
  },
  {
   "cell_type": "markdown",
   "metadata": {
    "slideshow": {
     "slide_type": "fragment"
    }
   },
   "source": [
    "### So why do they pay you?\n",
    "To get the job done right!"
   ]
  },
  {
   "cell_type": "markdown",
   "metadata": {
    "slideshow": {
     "slide_type": "fragment"
    }
   },
   "source": [
    "### What does it take to do things right?\n",
    "Knowledge + Skills + Code of conduct"
   ]
  },
  {
   "cell_type": "markdown",
   "metadata": {
    "slideshow": {
     "slide_type": "fragment"
    }
   },
   "source": [
    "## Professionalism is as much **how you approach things** as it is getting the right answers."
   ]
  },
  {
   "cell_type": "markdown",
   "metadata": {
    "slideshow": {
     "slide_type": "slide"
    }
   },
   "source": [
    "# Speaking of Grades\n",
    "## How will we know if the course objectives are met?"
   ]
  },
  {
   "cell_type": "markdown",
   "metadata": {
    "slideshow": {
     "slide_type": "subslide"
    }
   },
   "source": [
    "# Five types of Assignments \n",
    "- Readings\n",
    "- Tutorials\n",
    "- Lessons\n",
    "- Quizzes\n",
    "- Final Project   \n",
    "\n",
    "**For more details see the course syllabus.**"
   ]
  },
  {
   "cell_type": "markdown",
   "metadata": {
    "slideshow": {
     "slide_type": "subslide"
    }
   },
   "source": [
    "# Grading Scale\n",
    "All assignment grades are entered on a GPA scale. Numerical scores (e.g., on quizzes) are normalized with a mean of 3.5 and a standard deviation of 1/3. \n",
    "![Grading Scale](img/L0_fig3_grading_scale.png)"
   ]
  },
  {
   "cell_type": "markdown",
   "metadata": {
    "slideshow": {
     "slide_type": "slide"
    }
   },
   "source": [
    "# The Class Website\n",
    "\n",
    "## https://christopherhuntley.github.io/BUAN5405-docs "
   ]
  },
  {
   "cell_type": "markdown",
   "metadata": {
    "slideshow": {
     "slide_type": "slide"
    }
   },
   "source": [
    "![DSB Logo](img/Dolan_wide.png)\n",
    "# Course Introduction\n",
    "\n",
    "### Everything you need to know and do before the first day of class"
   ]
  }
 ],
 "metadata": {
  "kernelspec": {
   "display_name": "Python 3",
   "language": "python",
   "name": "python3"
  },
  "language_info": {
   "codemirror_mode": {
    "name": "ipython",
    "version": 3
   },
   "file_extension": ".py",
   "mimetype": "text/x-python",
   "name": "python",
   "nbconvert_exporter": "python",
   "pygments_lexer": "ipython3",
   "version": "3.7.7"
  }
 },
 "nbformat": 4,
 "nbformat_minor": 4
}
