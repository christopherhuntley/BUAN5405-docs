{
 "cells": [
  {
   "cell_type": "markdown",
   "metadata": {
    "slideshow": {
     "slide_type": "slide"
    }
   },
   "source": [
    "# Lesson 7: Files\n",
    "## _Sequential, persistent data stores_"
   ]
  },
  {
   "cell_type": "markdown",
   "metadata": {
    "slideshow": {
     "slide_type": "subslide"
    }
   },
   "source": [
    "# Transience, Persistence, and The Cloud\n",
    "> “Memories, even your most precious ones, fade surprisingly quickly. But I don’t go along with that. The memories I value most, I don’t ever see them fading.”    \n",
    "> -- Kazuo Ishiguro, Never Let Me Go"
   ]
  },
  {
   "cell_type": "markdown",
   "metadata": {
    "slideshow": {
     "slide_type": "subslide"
    }
   },
   "source": [
    "# Data within our programs is inherently **_transient_**\n",
    "- \"garbage collection\"\n",
    "- better hope the power doesn't go out"
   ]
  },
  {
   "cell_type": "markdown",
   "metadata": {
    "slideshow": {
     "slide_type": "subslide"
    }
   },
   "source": [
    "# **_Persistent_** data exists after we shut down\n",
    "- files and file systems\n",
    "- always resides somewhere"
   ]
  },
  {
   "cell_type": "markdown",
   "metadata": {
    "slideshow": {
     "slide_type": "subslide"
    }
   },
   "source": [
    "# The Cloud **_virtualizes_** everything.\n",
    "- Red pill ... Blue pill ... But for your programs and data.\n",
    "- Files become documents and urls\n",
    "- Where does the program reside?"
   ]
  },
  {
   "cell_type": "markdown",
   "metadata": {
    "slideshow": {
     "slide_type": "subslide"
    }
   },
   "source": [
    "# Roadmap\n",
    "#### Lessons 1-5: basics & logic\n",
    "#### Lesson 6: strings\n",
    "## **Lesson 7: files**\n",
    "### Lesson 8: lists\n",
    "#### Lesson 9-10: dictionaries & tuples\n",
    "#### Lessons 11-12: advanced topics\n",
    "#### Final Project"
   ]
  }
 ],
 "metadata": {
  "kernelspec": {
   "display_name": "Python 3",
   "language": "python",
   "name": "python3"
  },
  "language_info": {
   "codemirror_mode": {
    "name": "ipython",
    "version": 3
   },
   "file_extension": ".py",
   "mimetype": "text/x-python",
   "name": "python",
   "nbconvert_exporter": "python",
   "pygments_lexer": "ipython3",
   "version": "3.7.7"
  }
 },
 "nbformat": 4,
 "nbformat_minor": 4
}
