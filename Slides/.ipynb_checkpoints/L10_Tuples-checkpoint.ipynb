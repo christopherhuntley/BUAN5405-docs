{
 "cells": [
  {
   "cell_type": "markdown",
   "metadata": {
    "slideshow": {
     "slide_type": "slide"
    }
   },
   "source": [
    "# Lesson 10: Tuples\n",
    "## _The label maker of Python data types_"
   ]
  },
  {
   "cell_type": "markdown",
   "metadata": {
    "slideshow": {
     "slide_type": "subslide"
    }
   },
   "source": [
    "# Why Immutable Collections?\n",
    "> \"Truth is necessary and immutable.\"    \n",
    "> -- Étienne Gilson\n",
    "\n",
    "> \"Beauty is truth, truth beauty.\"    \n",
    "> --John Keats, _Ode on a Grecian Urn_"
   ]
  },
  {
   "cell_type": "markdown",
   "metadata": {
    "slideshow": {
     "slide_type": "subslide"
    }
   },
   "source": [
    "# Tuples don't _do_ anything.\n",
    "### Can't make combine or splice\n",
    "### Can't modify values\n",
    "### Just create literals ... use them somehow\n"
   ]
  },
  {
   "cell_type": "markdown",
   "metadata": {
    "slideshow": {
     "slide_type": "subslide"
    }
   },
   "source": [
    "# Roadmap\n",
    "#### Lessons 1-5: basics & logic\n",
    "#### Lesson 6-9: strings, files, lists, dictionaries\n",
    "## **Lesson 10: tuples**\n",
    "### Lesson 11: pandas DataFrames\n",
    "#### Lesson 12: web and time\n",
    "#### Final Project"
   ]
  }
 ],
 "metadata": {
  "kernelspec": {
   "display_name": "Python 3",
   "language": "python",
   "name": "python3"
  },
  "language_info": {
   "codemirror_mode": {
    "name": "ipython",
    "version": 3
   },
   "file_extension": ".py",
   "mimetype": "text/x-python",
   "name": "python",
   "nbconvert_exporter": "python",
   "pygments_lexer": "ipython3",
   "version": "3.7.7"
  }
 },
 "nbformat": 4,
 "nbformat_minor": 4
}
