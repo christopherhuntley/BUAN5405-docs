{
 "cells": [
  {
   "cell_type": "markdown",
   "metadata": {
    "slideshow": {
     "slide_type": "slide"
    }
   },
   "source": [
    "# Lesson 8: Lists\n",
    "## _If you can only have one collection type, make it a list_"
   ]
  },
  {
   "cell_type": "markdown",
   "metadata": {
    "slideshow": {
     "slide_type": "subslide"
    }
   },
   "source": [
    "# C Arrays: A Lingering Legacy\n",
    "> \"Real Programmers write in FORTRAN.\"    \n",
    "> -- _the Story of Mel_ from _The Cathedral and the Bazaar_"
   ]
  },
  {
   "cell_type": "markdown",
   "metadata": {
    "slideshow": {
     "slide_type": "subslide"
    }
   },
   "source": [
    "# C is the muscle car of programming languages.\n",
    "### As close as you'd ever want to get to assembly language \n",
    "### Super fast and without any pesky rules getting in the way"
   ]
  },
  {
   "cell_type": "markdown",
   "metadata": {
    "slideshow": {
     "slide_type": "subslide"
    }
   },
   "source": [
    "```c\n",
    "float *vector(nl,nh)\n",
    "int nl, nh;\n",
    "Allocates a float Vector with range [n1..nh] \n",
    "{\n",
    "    v=(float *)malloc((unsigned) (nh-nl+1)*sizeof(float);\n",
    "    if ((!v) nerror(\"allocation failure in vector()\");\n",
    "    return v-nl;\n",
    "}\n",
    "```"
   ]
  },
  {
   "cell_type": "markdown",
   "metadata": {
    "slideshow": {
     "slide_type": "subslide"
    }
   },
   "source": [
    "# The Scary Part ...\n",
    "### Set aside memory and _really_ hope it's enough\n",
    "### Major security bugs and crashes"
   ]
  },
  {
   "cell_type": "markdown",
   "metadata": {
    "slideshow": {
     "slide_type": "subslide"
    }
   },
   "source": [
    "# Python Lists are the smart, lazy, and **_SAFE_** way to go.\n",
    "### Lists can be any size\n",
    "### Lists can contain data of any type\n",
    "### Lists can be extended, sliced, and truncated easily"
   ]
  },
  {
   "cell_type": "markdown",
   "metadata": {
    "slideshow": {
     "slide_type": "subslide"
    }
   },
   "source": [
    "# Roadmap\n",
    "#### Lessons 1-5: basics & logic\n",
    "#### Lesson 6-7: strings & files\n",
    "## **Lesson 8: lists**\n",
    "### Lesson 9: dictionaries\n",
    "#### Lesson 10: tuples\n",
    "#### Lessons 11-12: advanced topics\n",
    "#### Final Project"
   ]
  }
 ],
 "metadata": {
  "kernelspec": {
   "display_name": "Python 3",
   "language": "python",
   "name": "python3"
  },
  "language_info": {
   "codemirror_mode": {
    "name": "ipython",
    "version": 3
   },
   "file_extension": ".py",
   "mimetype": "text/x-python",
   "name": "python",
   "nbconvert_exporter": "python",
   "pygments_lexer": "ipython3",
   "version": "3.7.7"
  }
 },
 "nbformat": 4,
 "nbformat_minor": 4
}
