{
 "cells": [
  {
   "cell_type": "markdown",
   "metadata": {
    "slideshow": {
     "slide_type": "slide"
    }
   },
   "source": [
    "# Lesson 9: Dictionaries\n",
    "## _Associative arrays by another name_"
   ]
  },
  {
   "cell_type": "markdown",
   "metadata": {
    "slideshow": {
     "slide_type": "subslide"
    }
   },
   "source": [
    "# The Magic of Associative Arrays\n",
    "> \"A very little key will open a very heavy door.\"   \n",
    "> -- Charles Dickens, _Hunted Down_"
   ]
  },
  {
   "cell_type": "markdown",
   "metadata": {
    "slideshow": {
     "slide_type": "subslide"
    }
   },
   "source": [
    "# AWK\n",
    "### Designed for text streams before there was such a thing\n",
    "### Read a line ... Write some output\n",
    "### Great for ETL and backend system tasks"
   ]
  },
  {
   "cell_type": "markdown",
   "metadata": {
    "slideshow": {
     "slide_type": "subslide"
    }
   },
   "source": [
    "# Associative Arrays\n",
    "### Variable length\n",
    "### Indexed on keys, which could be text or integers\n",
    "### Histograms in one line of code"
   ]
  },
  {
   "cell_type": "markdown",
   "metadata": {
    "slideshow": {
     "slide_type": "subslide"
    }
   },
   "source": [
    "# Roadmap\n",
    "#### Lessons 1-5: basics & logic\n",
    "#### Lesson 6-8: strings, files, lists\n",
    "## **Lesson 9: dictionaries**\n",
    "### Lesson 10: tuples\n",
    "#### Lessons 11: advanced topics\n",
    "#### Final Project"
   ]
  }
 ],
 "metadata": {
  "kernelspec": {
   "display_name": "Python 3",
   "language": "python",
   "name": "python3"
  },
  "language_info": {
   "codemirror_mode": {
    "name": "ipython",
    "version": 3
   },
   "file_extension": ".py",
   "mimetype": "text/x-python",
   "name": "python",
   "nbconvert_exporter": "python",
   "pygments_lexer": "ipython3",
   "version": "3.7.7"
  }
 },
 "nbformat": 4,
 "nbformat_minor": 4
}
