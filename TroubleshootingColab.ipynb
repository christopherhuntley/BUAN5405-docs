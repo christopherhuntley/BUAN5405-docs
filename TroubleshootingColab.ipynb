{
 "cells": [
  {
   "cell_type": "markdown",
   "metadata": {},
   "source": [
    "# Fix for 400 Error when Opening a Notebook from Google Drive\n",
    "\n",
    "If yyou have multiple Google accounts it is easy for Colab and Google Drive to get confused. Google Drive has to **allow** Colab to open the file. It's possible that you allowed Colab to write the file from within Colab but didn't give it permission to read to file from Google Drive.\n",
    "\n",
    "Here is a solution that will fix is once and for all. Repeat it for _each file_ you can open in Google Drive.\n",
    "\n",
    "## Step 1. Open a Notebook from your repository in GitHub.\n",
    "\n",
    "Click a notebook from this list to open a fresh copy:\n",
    "- [Lesson 1](https://colab.research.google.com/github/christopherhuntley/BUAN5405-lessons/blob/master/L01_Preliminaries.ipynb) Preliminaries \n",
    "- [Lesson 2](https://colab.research.google.com/github/christopherhuntley/BUAN5405-lessons/blob/master/L02_Basic_Computation.ipynb)  Basic Computation\n",
    "- [Lesson 3](https://colab.research.google.com/github/christopherhuntley/BUAN5405-lessons/blob/master/L03_Conditionals.ipynb)  Conditionals\n",
    "- [Lesson 4](https://colab.research.google.com/github/christopherhuntley/BUAN5405-lessons/blob/master/L04_Functions.ipynb)  Functions\n",
    "- [Lesson 5](https://colab.research.google.com/github/christopherhuntley/BUAN5405-lessons/blob/master/L05_Iteration.ipynb)  Iteration\n",
    "- [Lesson 6](https://colab.research.google.com/github/christopherhuntley/BUAN5405-lessons/blob/master/L06_Strings.ipynb)  Strings\n",
    "- [Lesson 7](https://colab.research.google.com/github/christopherhuntley/BUAN5405-lessons/blob/master/L07_Files.ipynb)  Files\n",
    "- [Lesson 8](https://colab.research.google.com/github/christopherhuntley/BUAN5405-lessons/blob/master/L08_Lists.ipynb)  Lists\n",
    "- [Lesson 9](https://colab.research.google.com/github/christopherhuntley/BUAN5405-lessons/blob/master/L09_Dictionaries.ipynb)  Dictionaries\n",
    "- [Lesson 10](https://colab.research.google.com/github/christopherhuntley/BUAN5405-lessons/blob/master/L10_Tuples.ipynb) Tuples\n",
    "- [Lesson 11](https://colab.research.google.com/github/christopherhuntley/BUAN5405-lessons/blob/master/L11_DataFrames.ipynb) DataFrames \n",
    "- [Lesson 12](https://colab.research.google.com/github/christopherhuntley/BUAN5405-lessons/blob/master/L12_Odds_Ends.ipynb) Odds and Ends\n",
    "\n",
    "## Step 2: In Colab, make 100% sure you are using the right Google account. \n",
    "You likely have your default Google account set to your personal gmail, not your student.fairfield.edu one. In Colab that looks like this:\n",
    "\n",
    "![personal gmail](img/trouble_1_bad_account.png)"
   ]
  },
  {
   "cell_type": "markdown",
   "metadata": {},
   "source": [
    "The default account is shown at the top right. Just below it you see the same account being used by Colab. Neither is the one we want. Click the account icon in Colab to switch your student account. \n",
    "\n",
    "![switch account](img/trouble_2_switch_account.png)"
   ]
  },
  {
   "cell_type": "markdown",
   "metadata": {},
   "source": [
    "If you don't see your student account listed, then add it.\n",
    "\n",
    "Once you have the account switched Colab should look something like this when you click on the account icon:\n",
    "\n",
    "![right account](img/trouble_3_right_account.png)"
   ]
  },
  {
   "cell_type": "markdown",
   "metadata": {},
   "source": [
    "## Step 3. Copy to Google Drive. \n",
    "Click the \"Copy to Drive\" button just below the \"Runtimes\" menu. Your notebook will open in a copy in Google Drive. \n",
    "\n",
    "![copy to drive](img/trouble_4_copy_to_drive.png)"
   ]
  },
  {
   "cell_type": "markdown",
   "metadata": {},
   "source": [
    "## Step 4. Rename the Notebook.\n",
    "The notebook with have \"Copy of \" in the name. Double click on the filename and delete that extra text so that the name matches the original.\n",
    "![rename](img/trouble_5_file_rename.png)"
   ]
  },
  {
   "cell_type": "markdown",
   "metadata": {},
   "source": [
    "## Step 5. In Google Drive, open the Colab Notebooks folder and drag the file into your lessons folder. \n",
    "![drag file](img/trouble_6_drag_file.png)"
   ]
  }
 ],
 "metadata": {
  "kernelspec": {
   "display_name": "Python 3",
   "language": "python",
   "name": "python3"
  },
  "language_info": {
   "codemirror_mode": {
    "name": "ipython",
    "version": 3
   },
   "file_extension": ".py",
   "mimetype": "text/x-python",
   "name": "python",
   "nbconvert_exporter": "python",
   "pygments_lexer": "ipython3",
   "version": "3.7.7"
  }
 },
 "nbformat": 4,
 "nbformat_minor": 4
}
